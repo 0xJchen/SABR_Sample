{
 "cells": [
  {
   "cell_type": "code",
   "execution_count": 1,
   "metadata": {},
   "outputs": [],
   "source": [
    "from SABR import SABR_swaption, SABR\n",
    "import pandas as pd\n",
    "import numpy as np\n",
    "import matplotlib.pyplot as plt\n",
    "from matplotlib.offsetbox import AnchoredText"
   ]
  },
  {
   "cell_type": "code",
   "execution_count": 3,
   "metadata": {},
   "outputs": [
    {
     "name": "stdout",
     "output_type": "stream",
     "text": [
      " message: Optimization terminated successfully\n",
      " success: True\n",
      "  status: 0\n",
      "     fun: 0.029963856740103212\n",
      "       x: [ 1.416e+01  1.093e-05  1.260e-03]\n",
      "     nit: 6\n",
      "     jac: [ 8.095e-06 -4.100e-06 -1.548e-05]\n",
      "    nfev: 24\n",
      "    njev: 6\n",
      "14.158277094084994 0.5 1.0931843222749232e-05 0.0012602357396493688\n"
     ]
    }
   ],
   "source": [
    "# Here I am using Deribit Option data, the smile looks good!\n",
    "forawrd_price=1600\n",
    "# use 13OTC, 27OTC, 24NOV,29DEC,29MAR24 options\n",
    "time_to_expiration=[0.042,0.081, 0.158,0.254,0.503,0.752]\n",
    "iv=np.array([0.273, 0.285, 0.311, 0.366,0.431,0.458])\n",
    "strikes=[1600 for i in range(len(time_to_expiration))]\n",
    "model = SABR_swaption(F = forawrd_price, # forward rate, scalar\n",
    "                      K = strikes, # strikes, vector (N X 1)\n",
    "                      time = time_to_expiration, # expiry (in yrs), scalar\n",
    "                      vols = iv, # observed market volatilities, vector (N X 1)\n",
    "                      calibration=\"SLS_SciPy\",\n",
    "                      beta = 0.5,\n",
    "                      time_series=True)\n",
    "\n",
    "print(model.alpha, model.beta, model.rho, model.nu)\n"
   ]
  },
  {
   "cell_type": "markdown",
   "metadata": {},
   "source": [
    "First, this time I am only using ATM options at different expiration to calibrate the model (i.e. we take the atm simplification into optization objective).\n",
    "\n",
    "And we are emitting volume weighting here (assume each contract is liquid and instead using equally weighted)\n",
    "\n",
    "But the resulting alpha, i.e. '\\sigma_0', initial vol is still to large.\n",
    "In the reported paper, this is around 0.42, which means sense.\n"
   ]
  },
  {
   "cell_type": "code",
   "execution_count": null,
   "metadata": {},
   "outputs": [],
   "source": []
  }
 ],
 "metadata": {
  "kernelspec": {
   "display_name": "base",
   "language": "python",
   "name": "python3"
  },
  "language_info": {
   "codemirror_mode": {
    "name": "ipython",
    "version": 3
   },
   "file_extension": ".py",
   "mimetype": "text/x-python",
   "name": "python",
   "nbconvert_exporter": "python",
   "pygments_lexer": "ipython3",
   "version": "3.10.10"
  },
  "orig_nbformat": 4
 },
 "nbformat": 4,
 "nbformat_minor": 2
}
